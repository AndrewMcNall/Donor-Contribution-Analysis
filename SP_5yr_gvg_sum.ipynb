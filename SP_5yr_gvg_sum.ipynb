{
 "cells": [
  {
   "cell_type": "code",
   "execution_count": 2,
   "metadata": {},
   "outputs": [],
   "source": [
    "#import libraries\n",
    "\n",
    "import pandas as pd\n",
    "import numpy as np\n",
    "from matplotlib import pyplot as plt"
   ]
  },
  {
   "cell_type": "code",
   "execution_count": 3,
   "metadata": {},
   "outputs": [
    {
     "name": "stdout",
     "output_type": "stream",
     "text": [
      "     ID  gvg_2019  gvg_wsc_2019  LinkedSC  SCAmt            LinkedName  \\\n",
      "0  1372     500.0         500.0    1000.0      0  Sheppard Family Fund   \n",
      "1   786    5600.0        5600.0    5700.0      0                   NaN   \n",
      "2  5129     425.0         425.0     525.0      0                   NaN   \n",
      "3  6780     375.0         375.0     475.0      0      Fortnightly Club   \n",
      "4  4114     250.0         250.0     350.0      0      Fortnightly Club   \n",
      "\n",
      "   LinkedAmt  \n",
      "0        500  \n",
      "1        100  \n",
      "2        100  \n",
      "3        100  \n",
      "4        100  \n"
     ]
    }
   ],
   "source": [
    "# loading files for analysis\n",
    "\n",
    "IL_19 = pd.read_csv('NP.SPgiving.2019.csv')\n",
    "IL_18 = pd.read_csv('NP.SPgiving.2018.csv')\n",
    "IL_17 = pd.read_csv('NP.SPgiving.2017.csv')\n",
    "IL_16 = pd.read_csv('NP.SPgiving.2016.csv')\n",
    "IL_15 = pd.read_csv('NP.SPgiving.2015.csv')\n",
    "\n",
    "# renaming column headers\n",
    "\n",
    "IL_19.columns = ['ID', 'gvg_2019', 'gvg_wsc_2019', 'LinkedSC', 'SCAmt', 'LinkedName', 'LinkedAmt']\n",
    "IL_18.columns = ['ID', 'gvg_2018', 'gvg_wsc_2018', 'LinkedSC', 'SCAmt', 'LinkedName', 'LinkedAmt']\n",
    "IL_17.columns = ['ID', 'gvg_2017', 'gvg_wsc_2017', 'LinkedSC', 'SCAmt', 'LinkedName', 'LinkedAmt']\n",
    "IL_16.columns = ['ID', 'gvg_2016', 'gvg_wsc_2016', 'LinkedSC', 'SCAmt', 'LinkedName', 'LinkedAmt']\n",
    "IL_15.columns = ['ID', 'gvg_2015', 'gvg_wsc_2015', 'LinkedSC', 'SCAmt', 'LinkedName', 'LinkedAmt']\n",
    "\n",
    "print(IL_19.head())"
   ]
  },
  {
   "cell_type": "code",
   "execution_count": 4,
   "metadata": {},
   "outputs": [],
   "source": [
    "# condense dataframes to ID, name and giving columns\n",
    "\n",
    "gvg_19_condense = IL_19[['ID', 'gvg_2019']]\n",
    "gvg_18_condense = IL_18[['ID', 'gvg_2018']]\n",
    "gvg_17_condense = IL_17[['ID', 'gvg_2017']]\n",
    "gvg_16_condense = IL_16[['ID', 'gvg_2016']]\n",
    "gvg_15_condense = IL_15[['ID', 'gvg_2015']]"
   ]
  },
  {
   "cell_type": "code",
   "execution_count": 5,
   "metadata": {},
   "outputs": [
    {
     "name": "stdout",
     "output_type": "stream",
     "text": [
      "     ID  gvg_2019  gvg_2018  gvg_2017  gvg_2016  gvg_2015\n",
      "0   786    5600.0      5750    5000.0      1000      1000\n",
      "1   271     175.0       175     150.0       120       100\n",
      "2  3307     180.0       350     300.0       225        75\n",
      "3   510    3777.7      1200    1225.0      1200       210\n",
      "4  6542    1700.0      1400    1200.0      1100      1200\n"
     ]
    }
   ],
   "source": [
    "# merge df's through inner merge\n",
    "\n",
    "combined_gvg = gvg_19_condense.merge(gvg_18_condense).merge(gvg_17_condense).merge(gvg_16_condense).merge(gvg_15_condense)\n",
    "print(combined_gvg.head())"
   ]
  },
  {
   "cell_type": "code",
   "execution_count": 6,
   "metadata": {},
   "outputs": [
    {
     "name": "stdout",
     "output_type": "stream",
     "text": [
      "      ID  gvg_2019  gvg_2018  gvg_2017  gvg_2016  gvg_2015\n",
      "48  7010      50.0       125     125.0       145        50\n",
      "49   744      25.0       100     274.0       150        30\n",
      "50  2756      25.0        50     175.0       225       200\n",
      "51  6611     200.0       300     500.0       570       500\n",
      "52  1705    1000.0      1300     975.0       475       150\n"
     ]
    }
   ],
   "source": [
    "print(combined_gvg.tail())"
   ]
  },
  {
   "cell_type": "code",
   "execution_count": 7,
   "metadata": {},
   "outputs": [
    {
     "name": "stdout",
     "output_type": "stream",
     "text": [
      "       ID  gvg_2019  gvg_2018  gvg_2017  gvg_2016  gvg_2015\n",
      "985  6966       0.0       0.0       0.0       0.0      25.0\n",
      "986  7081       0.0       0.0       0.0       0.0      25.0\n",
      "987  7017       0.0       0.0       0.0       0.0      20.0\n",
      "988  5452       0.0       0.0       0.0       0.0      10.0\n",
      "989  3597       0.0       0.0       0.0       0.0       5.0\n"
     ]
    }
   ],
   "source": [
    "# merge dataframes to retain all rows through an outer merge\n",
    "\n",
    "gvg_19_18_outer = pd.merge(gvg_19_condense, gvg_18_condense, how = 'outer').reset_index(drop = True)\n",
    "\n",
    "gvg_19_18_outer.to_csv('SP.gvg_19_18.csv')\n",
    "\n",
    "gvg_17_outer = pd.merge(gvg_19_18_outer, gvg_17_condense, how = 'outer').reset_index(drop = True)\n",
    "\n",
    "gvg_16_outer = pd.merge(gvg_17_outer, gvg_16_condense, how = 'outer').reset_index(drop = True)\n",
    "\n",
    "combined_gvg_df = pd.merge(gvg_16_outer, gvg_15_condense, how = 'outer').reset_index(drop = True)\n",
    "\n",
    "# replace all NaN cells with 0\n",
    "\n",
    "combined_gvg_df.fillna(0, inplace = True)\n",
    "\n",
    "# save df to csv file\n",
    "\n",
    "combined_gvg_df.to_csv('SP.combined_gvg.csv')\n",
    "\n",
    "print(combined_gvg_df.tail())\n",
    "\n",
    "# print(combined_gvg_df.info())\n"
   ]
  },
  {
   "cell_type": "code",
   "execution_count": 8,
   "metadata": {},
   "outputs": [
    {
     "name": "stdout",
     "output_type": "stream",
     "text": [
      "Total giving per calendar year\n",
      "2019: $120553.2\n",
      "2018: $114452.0\n",
      "2017: $112389.41\n",
      "2016: $81155.0\n",
      "2015: $58953.0\n"
     ]
    }
   ],
   "source": [
    "# calculate aggregate giving stats by year\n",
    "\n",
    "total_19 = round(np.sum(combined_gvg_df['gvg_2019']), 2)\n",
    "\n",
    "total_18 = round(np.sum(combined_gvg_df['gvg_2018']), 2)\n",
    "\n",
    "total_17 = round(np.sum(combined_gvg_df['gvg_2017']), 2)\n",
    "\n",
    "total_16 = round(np.sum(combined_gvg_df['gvg_2016']), 2)\n",
    "\n",
    "total_15 = round(np.sum(combined_gvg_df['gvg_2015']), 2)\n",
    "\n",
    "print('Total giving per calendar year')\n",
    "print('2019: $' + str(total_19))\n",
    "print('2018: $' + str(total_18))\n",
    "print('2017: $' + str(total_17))\n",
    "print('2016: $' + str(total_16))\n",
    "print('2015: $' + str(total_15))"
   ]
  },
  {
   "cell_type": "code",
   "execution_count": 9,
   "metadata": {},
   "outputs": [
    {
     "name": "stdout",
     "output_type": "stream",
     "text": [
      "Average contributions per donor by calendar year\n",
      "$318.92\n",
      "$248.27\n",
      "$270.82\n",
      "$296.19\n",
      "$215.16\n"
     ]
    }
   ],
   "source": [
    "# calculate mean values by year\n",
    "\n",
    "nonzero_2019 = [amt for amt in combined_gvg_df['gvg_2019'] if amt > 0]\n",
    "nonzero_2018 = [amt for amt in combined_gvg_df['gvg_2018'] if amt > 0]\n",
    "nonzero_2017 = [amt for amt in combined_gvg_df['gvg_2017'] if amt > 0]\n",
    "nonzero_2016 = [amt for amt in combined_gvg_df['gvg_2016'] if amt > 0]\n",
    "nonzero_2015 = [amt for amt in combined_gvg_df['gvg_2015'] if amt > 0]\n",
    "\n",
    "mean_2019 = round(np.mean(nonzero_2019), 2)\n",
    "mean_2018 = round(np.mean(nonzero_2018), 2)\n",
    "mean_2017 = round(np.mean(nonzero_2017), 2)\n",
    "mean_2016 = round(np.mean(nonzero_2016), 2)\n",
    "mean_2015 = round(np.mean(nonzero_2015), 2)\n",
    "\n",
    "print('Average contributions per donor by calendar year')\n",
    "print('$' +str(mean_2019))\n",
    "print('$' +str(mean_2018))\n",
    "print('$' +str(mean_2017))\n",
    "print('$' +str(mean_2016))\n",
    "print('$' +str(mean_2015))"
   ]
  },
  {
   "cell_type": "code",
   "execution_count": 10,
   "metadata": {},
   "outputs": [
    {
     "name": "stdout",
     "output_type": "stream",
     "text": [
      "Median contributions by calendar year\n",
      "$125.0\n",
      "$100.0\n",
      "$100.0\n",
      "$125.0\n",
      "$100.0\n"
     ]
    }
   ],
   "source": [
    "# calculate median values each year\n",
    "\n",
    "median_2019 = round(np.median(nonzero_2019), 2)\n",
    "median_2018 = round(np.median(nonzero_2018), 2)\n",
    "median_2017 = round(np.median(nonzero_2017), 2)\n",
    "median_2016 = round(np.median(nonzero_2016), 2)\n",
    "median_2015 = round(np.median(nonzero_2015), 2)\n",
    "\n",
    "print('Median contributions by calendar year')\n",
    "print('$' +str(median_2019))\n",
    "print('$' +str(median_2018))\n",
    "print('$' +str(median_2017))\n",
    "print('$' +str(median_2016))\n",
    "print('$' +str(median_2015))"
   ]
  },
  {
   "cell_type": "code",
   "execution_count": 11,
   "metadata": {},
   "outputs": [
    {
     "name": "stdout",
     "output_type": "stream",
     "text": [
      "Number of donors by calendar year\n",
      "378\n",
      "461\n",
      "415\n",
      "274\n",
      "274\n"
     ]
    }
   ],
   "source": [
    "# calculate number of donors each calendar year\n",
    "\n",
    "count_19 = np.count_nonzero(combined_gvg_df['gvg_2019'])\n",
    "count_18 = np.count_nonzero(combined_gvg_df['gvg_2018'])\n",
    "count_17 = np.count_nonzero(combined_gvg_df['gvg_2017'])\n",
    "count_16 = np.count_nonzero(combined_gvg_df['gvg_2016'])\n",
    "count_15 = np.count_nonzero(combined_gvg_df['gvg_2015'])\n",
    "\n",
    "print('Number of donors by calendar year')\n",
    "print(count_19)\n",
    "print(count_18)\n",
    "print(count_17)\n",
    "print(count_16)\n",
    "print(count_15)"
   ]
  },
  {
   "cell_type": "code",
   "execution_count": 12,
   "metadata": {},
   "outputs": [
    {
     "name": "stdout",
     "output_type": "stream",
     "text": [
      "58353.2\n",
      "35\n",
      "33\n",
      "36\n",
      "30\n",
      "23\n"
     ]
    }
   ],
   "source": [
    "# include only giving $1,000+ in data\n",
    "\n",
    "IL_td_19 = [amt for amt in nonzero_2019 if amt >= 1000]\n",
    "IL_td_18 = [amt for amt in nonzero_2018 if amt >= 1000]\n",
    "IL_td_17 = [amt for amt in nonzero_2017 if amt >= 1000]\n",
    "IL_td_16 = [amt for amt in nonzero_2016 if amt >= 1000]\n",
    "IL_td_15 = [amt for amt in nonzero_2015 if amt >= 1000]\n",
    "\n",
    "# calculate stats on gifts $1,000+\n",
    "\n",
    "td_total_19 = round(np.sum(IL_td_19), 2)\n",
    "td_total_18 = round(np.sum(IL_td_18), 2)\n",
    "td_total_17 = round(np.sum(IL_td_17), 2)\n",
    "td_total_16 = round(np.sum(IL_td_16), 2)\n",
    "td_total_15 = round(np.sum(IL_td_15), 2)\n",
    "td_count_19 = np.count_nonzero(IL_td_19)\n",
    "td_count_18 = np.count_nonzero(IL_td_18)\n",
    "td_count_17 = np.count_nonzero(IL_td_17)\n",
    "td_count_16 = np.count_nonzero(IL_td_16)\n",
    "td_count_15 = np.count_nonzero(IL_td_15)\n",
    "\n",
    "print(td_total_19)\n",
    "print(td_count_19)\n",
    "print(td_count_18)\n",
    "print(td_count_17)\n",
    "print(td_count_16)\n",
    "print(td_count_15)\n"
   ]
  },
  {
   "cell_type": "code",
   "execution_count": 13,
   "metadata": {},
   "outputs": [
    {
     "data": {
      "image/png": "[encoded data removed]",
      "text/plain": [
       "<Figure size 864x576 with 4 Axes>"
      ]
     },
     "metadata": {
      "needs_background": "light"
     },
     "output_type": "display_data"
    }
   ],
   "source": [
    "# plot total giving results\n",
    "\n",
    "years = ['2019', '2018', '2017', '2016', '2015']\n",
    "\n",
    "total_gvg = np.array([total_19, total_18, total_17, total_16, total_15])\n",
    "mean_array = np.array([mean_2019, mean_2018, mean_2017, mean_2016, mean_2015])\n",
    "median_array = np.array([median_2019, median_2018, median_2017, median_2016, median_2015])\n",
    "count_array = np.array([count_19, count_18, count_17, count_16, count_15])\n",
    "\n",
    "plt.figure(figsize = (12, 8))\n",
    "plt.subplot(2, 2, 1)\n",
    "plt.bar(years, total_gvg, facecolor = 'green', edgecolor = 'black' )\n",
    "plt.title('SP Total Giving 2015-19')\n",
    "plt.xlabel('Year')\n",
    "plt.ylabel('$ Amt of Giving')\n",
    "\n",
    "plt.subplot(2, 2, 2)\n",
    "plt.bar(years, mean_array, facecolor = 'yellow', edgecolor = 'black' )\n",
    "plt.title('SP average giving 2015-19')\n",
    "plt.xlabel('Year')\n",
    "plt.ylabel('$ Amt of Average')\n",
    "\n",
    "plt.subplot(2, 2, 3)\n",
    "plt.bar(years, median_array, facecolor = 'blue', edgecolor = 'black' )\n",
    "plt.title('SP median giving 2015-19')\n",
    "plt.xlabel('Year')\n",
    "plt.ylabel('$ Amt of Median')\n",
    "\n",
    "plt.subplot(2, 2, 4)\n",
    "plt.bar(years, count_array, facecolor = 'purple', edgecolor = 'black' )\n",
    "plt.title('SP Donor Count 2015-19')\n",
    "plt.xlabel('Year')\n",
    "plt.ylabel('# of Donors')\n",
    "\n",
    "plt.subplots_adjust(hspace = 0.35)\n",
    "plt.savefig('SP.giving_plots.png')\n",
    "plt.show()"
   ]
  },
  {
   "cell_type": "code",
   "execution_count": 14,
   "metadata": {},
   "outputs": [
    {
     "name": "stdout",
     "output_type": "stream",
     "text": [
      "[120553.2  114452.   112389.41  81155.    58953.  ]\n",
      "[318.92 248.27 270.82 296.19 215.16]\n",
      "[125. 100. 100. 125. 100.]\n",
      "[378 461 415 274 274]\n"
     ]
    }
   ],
   "source": [
    "print(total_gvg)\n",
    "print(mean_array)\n",
    "print(median_array)\n",
    "print(count_array)"
   ]
  },
  {
   "cell_type": "code",
   "execution_count": null,
   "metadata": {},
   "outputs": [],
   "source": []
  }
 ],
 "metadata": {
  "kernelspec": {
   "display_name": "Python 3",
   "language": "python",
   "name": "python3"
  },
  "language_info": {
   "codemirror_mode": {
    "name": "ipython",
    "version": 3
   },
   "file_extension": ".py",
   "mimetype": "text/x-python",
   "name": "python",
   "nbconvert_exporter": "python",
   "pygments_lexer": "ipython3",
   "version": "3.7.4"
  }
 },
 "nbformat": 4,
 "nbformat_minor": 2
}
