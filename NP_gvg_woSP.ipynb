{
 "cells": [
  {
   "cell_type": "code",
   "execution_count": 2,
   "metadata": {},
   "outputs": [],
   "source": [
    "# import libraries\n",
    "\n",
    "import pandas as pd\n",
    "import numpy as np\n",
    "from matplotlib import pyplot as plt"
   ]
  },
  {
   "cell_type": "code",
   "execution_count": 3,
   "metadata": {},
   "outputs": [],
   "source": [
    "# loading files for analysis\n",
    "\n",
    "giving_2019 = pd.read_csv('NP.givingwoSP.2019.csv')\n",
    "giving_2018 = pd.read_csv('NP.givingwoSP.2018.csv')\n",
    "giving_2017 = pd.read_csv('NP.givingwoSP.2017.csv')\n",
    "giving_2016 = pd.read_csv('NP.givingwoSP.2016.csv')\n",
    "giving_2015 = pd.read_csv('NP.givingwoSP.2015.csv')\n",
    "\n",
    "# renaming column headers\n",
    "\n",
    "giving_2019.columns = ['ID', 'gvg_2019', 'gvg_wsc_2019', 'LinkedSC', 'SCAmt', 'LinkedName', 'LinkedAmt']\n",
    "giving_2018.columns = ['ID', 'gvg_2018', 'gvg_wsc_2018', 'LinkedSC', 'SCAmt', 'LinkedName', 'LinkedAmt']\n",
    "giving_2017.columns = ['ID', 'gvg_2017', 'gvg_wsc_2017', 'LinkedSC', 'SCAmt', 'LinkedName', 'LinkedAmt']\n",
    "giving_2016.columns = ['ID', 'gvg_2016', 'gvg_wsc_2016', 'LinkedSC', 'SCAmt', 'LinkedName', 'LinkedAmt']\n",
    "giving_2015.columns = ['ID', 'gvg_2015', 'gvg_wsc_2015', 'LinkedSC', 'SCAmt', 'LinkedName', 'LinkedAmt']\n"
   ]
  },
  {
   "cell_type": "code",
   "execution_count": 4,
   "metadata": {},
   "outputs": [],
   "source": [
    "# condense dataframes to ID, name and giving columns\n",
    "\n",
    "gvg_19_condense = giving_2019[['ID', 'gvg_2019']]\n",
    "gvg_18_condense = giving_2018[['ID', 'gvg_2018']]\n",
    "gvg_17_condense = giving_2017[['ID', 'gvg_2017']]\n",
    "gvg_16_condense = giving_2016[['ID', 'gvg_2016']]\n",
    "gvg_15_condense = giving_2015[['ID', 'gvg_2015']]"
   ]
  },
  {
   "cell_type": "code",
   "execution_count": 5,
   "metadata": {},
   "outputs": [
    {
     "name": "stdout",
     "output_type": "stream",
     "text": [
      "     ID  gvg_2019  gvg_2018  gvg_2017  gvg_2016  gvg_2015\n",
      "0  5998   11000.0   10000.0   12000.0   10000.0   10000.0\n",
      "1  1282   10000.0   11000.0   10000.0   10000.0    1000.0\n",
      "2  6777    6340.1    3750.0     400.0     750.0    1650.0\n",
      "3   402    3200.0    2500.0    2500.0    2750.0    2250.0\n",
      "4  2379    2000.0    2000.0    1000.0    2000.0    2000.0\n"
     ]
    }
   ],
   "source": [
    "# merge df's through inner merge\n",
    "\n",
    "combined_gvg = gvg_19_condense.merge(gvg_18_condense).merge(gvg_17_condense).merge(gvg_16_condense).merge(gvg_15_condense)\n",
    "print(combined_gvg.head())"
   ]
  },
  {
   "cell_type": "code",
   "execution_count": 6,
   "metadata": {},
   "outputs": [
    {
     "name": "stdout",
     "output_type": "stream",
     "text": [
      "       ID  gvg_2019  gvg_2018  gvg_2017  gvg_2016  gvg_2015\n",
      "105  2805     300.0     300.0     100.0     100.0     125.0\n",
      "106  2095     500.0    1000.0    1500.0    1000.0    1000.0\n",
      "107  6808     250.0     250.0     250.0     250.0     250.0\n",
      "108  2622     500.0    1000.0     500.0     500.0     500.0\n",
      "109   683    2000.0    1500.0    1500.0    1125.0     200.0\n"
     ]
    }
   ],
   "source": [
    "print(combined_gvg.tail())"
   ]
  },
  {
   "cell_type": "code",
   "execution_count": 7,
   "metadata": {},
   "outputs": [
    {
     "name": "stdout",
     "output_type": "stream",
     "text": [
      "        ID  gvg_2019  gvg_2018  gvg_2017  gvg_2016  gvg_2015\n",
      "1048  7063       0.0       0.0       0.0       0.0      25.0\n",
      "1049  7068       0.0       0.0       0.0       0.0      25.0\n",
      "1050   792       0.0       0.0       0.0       0.0      20.0\n",
      "1051  6960       0.0       0.0       0.0       0.0      20.0\n",
      "1052  2310       0.0       0.0       0.0       0.0     250.0\n"
     ]
    }
   ],
   "source": [
    "# merge dataframes to retain all rows through an outer merge\n",
    "\n",
    "gvg_19_18_outer = pd.merge(gvg_19_condense, gvg_18_condense, how = 'outer').reset_index(drop = True)\n",
    "\n",
    "gvg_17_outer = pd.merge(gvg_19_18_outer, gvg_17_condense, how = 'outer').reset_index(drop = True)\n",
    "\n",
    "gvg_16_outer = pd.merge(gvg_17_outer, gvg_16_condense, how = 'outer').reset_index(drop = True)\n",
    "\n",
    "combined_gvg_df = pd.merge(gvg_16_outer, gvg_15_condense, how = 'outer').reset_index(drop = True)\n",
    "\n",
    "# replace all NaN cells with 0\n",
    "\n",
    "combined_gvg_df.fillna(0, inplace = True)\n",
    "\n",
    "# save df to csv file\n",
    "\n",
    "combined_gvg_df.to_csv('NP.combined_gvg_woSP.csv')\n",
    "\n",
    "print(combined_gvg_df.tail())\n",
    "\n",
    "# print(combined_gvg_df.info())\n"
   ]
  },
  {
   "cell_type": "code",
   "execution_count": 8,
   "metadata": {},
   "outputs": [
    {
     "name": "stdout",
     "output_type": "stream",
     "text": [
      "Total giving per calendar year\n",
      "2019: $189294.73\n",
      "2018: $228603.94\n",
      "2017: $181572.84\n",
      "2016: $206530.3\n",
      "2015: $152126.33\n"
     ]
    }
   ],
   "source": [
    "# calculate aggregate giving stats by year\n",
    "\n",
    "total_19 = round(np.sum(combined_gvg_df['gvg_2019']), 2)\n",
    "\n",
    "total_18 = round(np.sum(combined_gvg_df['gvg_2018']), 2)\n",
    "\n",
    "total_17 = round(np.sum(combined_gvg_df['gvg_2017']), 2)\n",
    "\n",
    "total_16 = round(np.sum(combined_gvg_df['gvg_2016']), 2)\n",
    "\n",
    "total_15 = round(np.sum(combined_gvg_df['gvg_2015']), 2)\n",
    "\n",
    "print('Total giving per calendar year')\n",
    "print('2019: $' + str(total_19))\n",
    "print('2018: $' + str(total_18))\n",
    "print('2017: $' + str(total_17))\n",
    "print('2016: $' + str(total_16))\n",
    "print('2015: $' + str(total_15))"
   ]
  },
  {
   "cell_type": "code",
   "execution_count": 9,
   "metadata": {},
   "outputs": [
    {
     "name": "stdout",
     "output_type": "stream",
     "text": [
      "Average contributions per donor by calendar year\n",
      "$444.35\n",
      "$450.9\n",
      "$377.49\n",
      "$463.07\n",
      "$344.96\n"
     ]
    }
   ],
   "source": [
    "# calculate mean values by year\n",
    "\n",
    "nonzero_2019 = [amt for amt in combined_gvg_df['gvg_2019'] if amt > 0]\n",
    "nonzero_2018 = [amt for amt in combined_gvg_df['gvg_2018'] if amt > 0]\n",
    "nonzero_2017 = [amt for amt in combined_gvg_df['gvg_2017'] if amt > 0]\n",
    "nonzero_2016 = [amt for amt in combined_gvg_df['gvg_2016'] if amt > 0]\n",
    "nonzero_2015 = [amt for amt in combined_gvg_df['gvg_2015'] if amt > 0]\n",
    "\n",
    "mean_2019 = round(np.mean(nonzero_2019), 2)\n",
    "mean_2018 = round(np.mean(nonzero_2018), 2)\n",
    "mean_2017 = round(np.mean(nonzero_2017), 2)\n",
    "mean_2016 = round(np.mean(nonzero_2016), 2)\n",
    "mean_2015 = round(np.mean(nonzero_2015), 2)\n",
    "\n",
    "print('Average contributions per donor by calendar year')\n",
    "print('$' +str(mean_2019))\n",
    "print('$' +str(mean_2018))\n",
    "print('$' +str(mean_2017))\n",
    "print('$' +str(mean_2016))\n",
    "print('$' +str(mean_2015))"
   ]
  },
  {
   "cell_type": "code",
   "execution_count": 10,
   "metadata": {},
   "outputs": [
    {
     "name": "stdout",
     "output_type": "stream",
     "text": [
      "Median contributions by calendar year\n",
      "$120.0\n",
      "$200.0\n",
      "$100.0\n",
      "$150.0\n",
      "$115.0\n"
     ]
    }
   ],
   "source": [
    "# calculate median values each year\n",
    "\n",
    "median_2019 = round(np.median(nonzero_2019), 2)\n",
    "median_2018 = round(np.median(nonzero_2018), 2)\n",
    "median_2017 = round(np.median(nonzero_2017), 2)\n",
    "median_2016 = round(np.median(nonzero_2016), 2)\n",
    "median_2015 = round(np.median(nonzero_2015), 2)\n",
    "\n",
    "print('Median contributions by calendar year')\n",
    "print('$' +str(median_2019))\n",
    "print('$' +str(median_2018))\n",
    "print('$' +str(median_2017))\n",
    "print('$' +str(median_2016))\n",
    "print('$' +str(median_2015))"
   ]
  },
  {
   "cell_type": "code",
   "execution_count": 11,
   "metadata": {},
   "outputs": [
    {
     "name": "stdout",
     "output_type": "stream",
     "text": [
      "Number of donors by calendar year\n",
      "426\n",
      "507\n",
      "481\n",
      "446\n",
      "441\n"
     ]
    }
   ],
   "source": [
    "# calculate number of donors each calendar year\n",
    "\n",
    "count_19 = np.count_nonzero(combined_gvg_df['gvg_2019'])\n",
    "count_18 = np.count_nonzero(combined_gvg_df['gvg_2018'])\n",
    "count_17 = np.count_nonzero(combined_gvg_df['gvg_2017'])\n",
    "count_16 = np.count_nonzero(combined_gvg_df['gvg_2016'])\n",
    "count_15 = np.count_nonzero(combined_gvg_df['gvg_2015'])\n",
    "\n",
    "print('Number of donors by calendar year')\n",
    "print(count_19)\n",
    "print(count_18)\n",
    "print(count_17)\n",
    "print(count_16)\n",
    "print(count_15)"
   ]
  },
  {
   "cell_type": "code",
   "execution_count": 12,
   "metadata": {},
   "outputs": [
    {
     "data": {
      "image/png": "[encoded data removed]",
      "text/plain": [
       "<Figure size 864x576 with 4 Axes>"
      ]
     },
     "metadata": {
      "needs_background": "light"
     },
     "output_type": "display_data"
    }
   ],
   "source": [
    "# plot total giving results\n",
    "\n",
    "years = ['2019', '2018', '2017', '2016', '2015']\n",
    "\n",
    "total_gvg = np.array([total_19, total_18, total_17, total_16, total_15])\n",
    "mean_array = np.array([mean_2019, mean_2018, mean_2017, mean_2016, mean_2015])\n",
    "median_array = np.array([median_2019, median_2018, median_2017, median_2016, median_2015])\n",
    "count_array = np.array([count_19, count_18, count_17, count_16, count_15])\n",
    "\n",
    "plt.figure(figsize = (12, 8))\n",
    "plt.subplot(2, 2, 1)\n",
    "plt.bar(years, total_gvg, facecolor = 'green', edgecolor = 'black' )\n",
    "plt.title('NP total giving w/o SP')\n",
    "plt.xlabel('Year')\n",
    "plt.ylabel('$ Amt of Giving')\n",
    "\n",
    "plt.subplot(2, 2, 2)\n",
    "plt.bar(years, mean_array, facecolor = 'yellow', edgecolor = 'black' )\n",
    "plt.title('NP average giving w/o SP')\n",
    "plt.xlabel('Year')\n",
    "plt.ylabel('$ Amt of Average')\n",
    "\n",
    "plt.subplot(2, 2, 3)\n",
    "plt.bar(years, median_array, facecolor = 'blue', edgecolor = 'black' )\n",
    "plt.title('NP median giving w/o SP')\n",
    "plt.xlabel('Year')\n",
    "plt.ylabel('$ Amt of Median')\n",
    "\n",
    "plt.subplot(2, 2, 4)\n",
    "plt.bar(years, count_array, facecolor = 'purple', edgecolor = 'black' )\n",
    "plt.title('NP Donor Count w/o SP')\n",
    "plt.xlabel('Year')\n",
    "plt.ylabel('# of Donors')\n",
    "\n",
    "plt.subplots_adjust(hspace = 0.35)\n",
    "plt.savefig('NP_woSP_plots.png')\n",
    "plt.show()"
   ]
  },
  {
   "cell_type": "code",
   "execution_count": 13,
   "metadata": {},
   "outputs": [
    {
     "name": "stdout",
     "output_type": "stream",
     "text": [
      "[189294.73 228603.94 181572.84 206530.3  152126.33]\n",
      "[444.35 450.9  377.49 463.07 344.96]\n",
      "[120. 200. 100. 150. 115.]\n",
      "[426 507 481 446 441]\n"
     ]
    }
   ],
   "source": [
    "print(total_gvg)\n",
    "print(mean_array)\n",
    "print(median_array)\n",
    "print(count_array)"
   ]
  },
  {
   "cell_type": "code",
   "execution_count": null,
   "metadata": {},
   "outputs": [],
   "source": []
  }
 ],
 "metadata": {
  "kernelspec": {
   "display_name": "Python 3",
   "language": "python",
   "name": "python3"
  },
  "language_info": {
   "codemirror_mode": {
    "name": "ipython",
    "version": 3
   },
   "file_extension": ".py",
   "mimetype": "text/x-python",
   "name": "python",
   "nbconvert_exporter": "python",
   "pygments_lexer": "ipython3",
   "version": "3.7.4"
  }
 },
 "nbformat": 4,
 "nbformat_minor": 2
}
