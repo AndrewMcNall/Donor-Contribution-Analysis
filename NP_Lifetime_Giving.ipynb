{
 "cells": [
  {
   "cell_type": "code",
   "execution_count": 2,
   "metadata": {},
   "outputs": [],
   "source": [
    "import pandas as pd\n",
    "import numpy as np\n",
    "from matplotlib import pyplot as plt"
   ]
  },
  {
   "cell_type": "code",
   "execution_count": 3,
   "metadata": {},
   "outputs": [],
   "source": [
    "lifetime_giving = pd.read_csv('NP.LifetimeGiving.csv')"
   ]
  },
  {
   "cell_type": "code",
   "execution_count": 4,
   "metadata": {},
   "outputs": [
    {
     "name": "stdout",
     "output_type": "stream",
     "text": [
      "   Account Number  First Received Amount First Received Date  \\\n",
      "0               4                   50.0            8/4/2004   \n",
      "1               6                   25.0            8/1/1998   \n",
      "2               8                  100.0            4/4/2002   \n",
      "3               9                  100.0          12/19/2000   \n",
      "4              10                   25.0           5/11/1999   \n",
      "\n",
      "   Largest Received Amount Largest Received Date  \\\n",
      "0                     50.0              8/4/2004   \n",
      "1                     25.0              8/1/1998   \n",
      "2                    100.0              4/4/2002   \n",
      "3                    100.0            12/19/2000   \n",
      "4                     25.0             5/11/1999   \n",
      "\n",
      "   Lifetime Received & Soft Credit Amount  Lifetime Received Total  \\\n",
      "0                                    50.0                     50.0   \n",
      "1                                    50.0                     50.0   \n",
      "2                                   760.0                    760.0   \n",
      "3                                   100.0                    100.0   \n",
      "4                                    50.0                     50.0   \n",
      "\n",
      "   Number of Years Donated  \n",
      "0                        1  \n",
      "1                        2  \n",
      "2                       14  \n",
      "3                        1  \n",
      "4                        1  \n"
     ]
    }
   ],
   "source": [
    "print(lifetime_giving.head())"
   ]
  },
  {
   "cell_type": "code",
   "execution_count": 9,
   "metadata": {},
   "outputs": [
    {
     "name": "stdout",
     "output_type": "stream",
     "text": [
      "   ID  First_Gift     FG_Date  Largest_Gift     LG_Date  Lifetime_Gifts_SC  \\\n",
      "0   4        50.0    8/4/2004          50.0    8/4/2004               50.0   \n",
      "1   6        25.0    8/1/1998          25.0    8/1/1998               50.0   \n",
      "2   8       100.0    4/4/2002         100.0    4/4/2002              760.0   \n",
      "3   9       100.0  12/19/2000         100.0  12/19/2000              100.0   \n",
      "4  10        25.0   5/11/1999          25.0   5/11/1999               50.0   \n",
      "\n",
      "   Lifetime_Gifts  Yrs_Donated  \n",
      "0            50.0            1  \n",
      "1            50.0            2  \n",
      "2           760.0           14  \n",
      "3           100.0            1  \n",
      "4            50.0            1  \n"
     ]
    }
   ],
   "source": [
    "lifetime_giving.columns = ['ID', 'First_Gift', 'FG_Date', 'Largest_Gift', 'LG_Date', 'Lifetime_Gifts_SC', 'Lifetime_Gifts', 'Yrs_Donated']\n",
    "print(lifetime_giving.head())"
   ]
  },
  {
   "cell_type": "code",
   "execution_count": 10,
   "metadata": {},
   "outputs": [
    {
     "name": "stdout",
     "output_type": "stream",
     "text": [
      "# of donors 3830\n",
      "Average years donated: 3.1924281984334204\n",
      "Median years donated: 1.0\n",
      "Most number of years donated: 24\n",
      "Number of donors per each year of giving: 1     1945\n",
      "2      624\n",
      "3      313\n",
      "4      190\n",
      "5      128\n",
      "6      113\n",
      "7       84\n",
      "8       66\n",
      "9       51\n",
      "11      49\n",
      "12      42\n",
      "10      39\n",
      "14      35\n",
      "13      33\n",
      "16      23\n",
      "15      21\n",
      "17      18\n",
      "18      17\n",
      "19      15\n",
      "21       8\n",
      "20       7\n",
      "22       6\n",
      "23       2\n",
      "24       1\n",
      "Name: Yrs_Donated, dtype: int64\n",
      "Number of donors who gave 3 or more years: 1261\n",
      "Number of donors who gave 5 or more years: 758\n"
     ]
    }
   ],
   "source": [
    "# statistics about number of years donated\n",
    "\n",
    "yrs_donated_mean = np.mean(lifetime_giving['Yrs_Donated'])\n",
    "yrs_donated_median = np.median(lifetime_giving['Yrs_Donated'])\n",
    "print('# of donors ' + str(lifetime_giving.Yrs_Donated.count()))\n",
    "print('Average years donated: ' + str(lifetime_giving.Yrs_Donated.mean()))\n",
    "print('Median years donated: ' + str(lifetime_giving.Yrs_Donated.median()))\n",
    "#print('Mode years donated: ' + str(lifetime_giving.Yrs_Donated.mode()))\n",
    "print('Most number of years donated: ' + str(lifetime_giving.Yrs_Donated.max()))\n",
    "print('Number of donors per each year of giving: ' + str(lifetime_giving.Yrs_Donated.value_counts()))\n",
    "print('Number of donors who gave 3 or more years: ' + str(sum(float(num) >= 3 for num in lifetime_giving['Yrs_Donated'])))\n",
    "print('Number of donors who gave 5 or more years: ' + str(sum(float(num) >= 5 for num in lifetime_giving['Yrs_Donated'])))"
   ]
  },
  {
   "cell_type": "code",
   "execution_count": 12,
   "metadata": {},
   "outputs": [
    {
     "data": {
      "image/png": "[encoded data removed]",
      "text/plain": [
       "<Figure size 720x360 with 1 Axes>"
      ]
     },
     "metadata": {
      "needs_background": "light"
     },
     "output_type": "display_data"
    }
   ],
   "source": [
    "# plots of 'Yrs_Donated' data\n",
    "# plt.subplot()\n",
    "plt.figure(figsize = (10, 5))\n",
    "plt.hist(lifetime_giving['Yrs_Donated'], bins = 24, edgecolor = 'black')\n",
    "plt.axvline(yrs_donated_mean, color='b', linestyle='-', linewidth=2, label='Mean')\n",
    "plt.axvline(yrs_donated_median, color='r', linestyle='solid', linewidth=2, label='Median')\n",
    "plt.title('Number of Years a Donor has Donated to NP')\n",
    "plt.xlabel('Number of Years')\n",
    "plt.ylabel('Number of Donors')\n",
    "plt.legend()\n",
    "ax = plt.subplot()\n",
    "ax.set_xticks(range(25))\n",
    "plt.savefig('years_donated.png')\n",
    "plt.show()\n"
   ]
  },
  {
   "cell_type": "code",
   "execution_count": 13,
   "metadata": {},
   "outputs": [
    {
     "name": "stdout",
     "output_type": "stream",
     "text": [
      "Total lifetime giving - all donors: $10161339.43\n",
      "Average lifetime giving: 2653.091234986945\n",
      "Median lifetime giving: 150.0\n",
      "Largest lifetime giving total: 1477046.62\n",
      "Number of donors per each lifetime giving total: 100.00      793\n",
      "50.00       244\n",
      "200.00      226\n",
      "25.00       200\n",
      "150.00       98\n",
      "           ... \n",
      "12450.00      1\n",
      "8.05          1\n",
      "1222.00       1\n",
      "3180.00       1\n",
      "999.99        1\n",
      "Name: Lifetime_Gifts_SC, Length: 735, dtype: int64\n",
      "Number of donors who gave $10,000 or more lifetime: 138\n",
      "Number of donors who gave $50,000 or more lifetime: 24\n"
     ]
    }
   ],
   "source": [
    "# stats about lifetime giving\n",
    "\n",
    "total_lifetime_giving = sum(lifetime_giving['Lifetime_Gifts_SC'])\n",
    "lifetime_giving_mean = np.mean(lifetime_giving['Lifetime_Gifts_SC'])\n",
    "lifetime_giving_median = np.median(lifetime_giving['Lifetime_Gifts_SC'])\n",
    "print('Total lifetime giving - all donors: $' + str(total_lifetime_giving))\n",
    "print('Average lifetime giving: ' + str(lifetime_giving.Lifetime_Gifts_SC.mean()))\n",
    "print('Median lifetime giving: ' + str(lifetime_giving.Lifetime_Gifts_SC.median()))\n",
    "#print('Mode years donated: ' + str(lifetime_giving.Yrs_Donated.mode()))\n",
    "print('Largest lifetime giving total: ' + str(lifetime_giving.Lifetime_Gifts_SC.max()))\n",
    "print('Number of donors per each lifetime giving total: ' + str(lifetime_giving.Lifetime_Gifts_SC.value_counts()))\n",
    "print('Number of donors who gave $10,000 or more lifetime: ' + str(sum(float(num) >= 10000 for num in lifetime_giving['Lifetime_Gifts_SC'])))\n",
    "print('Number of donors who gave $50,000 or more lifetime: ' + str(sum(float(num) >= 50000 for num in lifetime_giving['Lifetime_Gifts_SC'])))"
   ]
  },
  {
   "cell_type": "code",
   "execution_count": 14,
   "metadata": {},
   "outputs": [
    {
     "name": "stdout",
     "output_type": "stream",
     "text": [
      "2717\n",
      "313\n",
      "569\n",
      "93\n",
      "116\n",
      "24\n"
     ]
    }
   ],
   "source": [
    "# create donor buckets\n",
    "donors_less_than_500 = (sum(float(num) < 500 for num in lifetime_giving['Lifetime_Gifts_SC']))\n",
    "donors_500 = (sum(float(num) >= 500 and float(num) < 1000 for num in lifetime_giving['Lifetime_Gifts_SC']))\n",
    "donors_1000 = (sum(float(num) >= 1000 and float(num) < 5000 for num in lifetime_giving['Lifetime_Gifts_SC']))\n",
    "donors_5000 = (sum(float(num) >= 5000 and float(num) < 10000 for num in lifetime_giving['Lifetime_Gifts_SC']))\n",
    "donors_10000 = (sum(float(num) >= 10000 and float(num) <= 50000 for num in lifetime_giving['Lifetime_Gifts_SC']))\n",
    "donors_50000 = (sum(float(num) >= 50000 for num in lifetime_giving['Lifetime_Gifts_SC']))\n",
    "print(donors_less_than_500)\n",
    "print(donors_500)\n",
    "print(donors_1000)\n",
    "print(donors_5000)\n",
    "print(donors_10000)\n",
    "print(donors_50000)\n",
    "\n",
    "lifetime_giving_levels = np.array([donors_less_than_500, donors_500, donors_1000, donors_5000, donors_10000, donors_50000])"
   ]
  },
  {
   "cell_type": "code",
   "execution_count": 15,
   "metadata": {},
   "outputs": [
    {
     "data": {
      "image/png": "[encoded data removed]",
      "text/plain": [
       "<Figure size 720x360 with 1 Axes>"
      ]
     },
     "metadata": {
      "needs_background": "light"
     },
     "output_type": "display_data"
    }
   ],
   "source": [
    "x = ['< $500', '$500+', '$1,000+', '$5,000+', '$10,000+', '$50,000+']\n",
    "plt.figure(figsize = (10, 5))\n",
    "plt.bar(x, lifetime_giving_levels, facecolor = 'green', edgecolor = 'black')\n",
    "# plt.axvline(lifetime_giving_mean, color='b', linestyle='dashed', linewidth=2, label='Mean')\n",
    "# plt.axvline(lifetime_giving_median, color='r', linestyle='solid', linewidth=2, label='Median')\n",
    "plt.title('Donor Lifetime Giving')\n",
    "plt.xlabel('Amt Categories - Mutually Exclusive')\n",
    "plt.ylabel('# of Donors')\n",
    "# plt.legend()\n",
    "# ax = plt.subplot()\n",
    "# ax.set_xticks(range(6))\n",
    "plt.savefig('lifetime_giving.png')\n",
    "plt.show()"
   ]
  },
  {
   "cell_type": "code",
   "execution_count": null,
   "metadata": {},
   "outputs": [],
   "source": []
  }
 ],
 "metadata": {
  "kernelspec": {
   "display_name": "Python 3",
   "language": "python",
   "name": "python3"
  },
  "language_info": {
   "codemirror_mode": {
    "name": "ipython",
    "version": 3
   },
   "file_extension": ".py",
   "mimetype": "text/x-python",
   "name": "python",
   "nbconvert_exporter": "python",
   "pygments_lexer": "ipython3",
   "version": "3.7.4"
  }
 },
 "nbformat": 4,
 "nbformat_minor": 2
}
